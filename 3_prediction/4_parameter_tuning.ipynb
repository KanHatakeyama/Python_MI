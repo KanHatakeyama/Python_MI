{
 "cells": [
  {
   "cell_type": "markdown",
   "metadata": {},
   "source": [
    "# 機械学習モデルのハイパーパラメータをチューニングする例"
   ]
  },
  {
   "cell_type": "code",
   "execution_count": 1,
   "metadata": {
    "colab": {},
    "colab_type": "code",
    "id": "dRVA4kvBDraM"
   },
   "outputs": [],
   "source": [
    "#化合物処理の為の関数・クラス群\n",
    "from RDKitWrapper import draw_SMILES,Fingerprint,RDKitDescriptors\n",
    "\n",
    "import pandas as pd\n",
    "import numpy as np\n",
    "import matplotlib.pyplot as plt\n"
   ]
  },
  {
   "cell_type": "markdown",
   "metadata": {},
   "source": [
    "# データベースの読み込み (data from wikipedia)"
   ]
  },
  {
   "cell_type": "code",
   "execution_count": 2,
   "metadata": {},
   "outputs": [
    {
     "data": {
      "text/html": [
       "<div>\n",
       "<style scoped>\n",
       "    .dataframe tbody tr th:only-of-type {\n",
       "        vertical-align: middle;\n",
       "    }\n",
       "\n",
       "    .dataframe tbody tr th {\n",
       "        vertical-align: top;\n",
       "    }\n",
       "\n",
       "    .dataframe thead th {\n",
       "        text-align: right;\n",
       "    }\n",
       "</style>\n",
       "<table border=\"1\" class=\"dataframe\">\n",
       "  <thead>\n",
       "    <tr style=\"text-align: right;\">\n",
       "      <th></th>\n",
       "      <th>SMILES</th>\n",
       "      <th>Melting temperature</th>\n",
       "    </tr>\n",
       "  </thead>\n",
       "  <tbody>\n",
       "    <tr>\n",
       "      <th>0</th>\n",
       "      <td>N</td>\n",
       "      <td>-77.73</td>\n",
       "    </tr>\n",
       "    <tr>\n",
       "      <th>1</th>\n",
       "      <td>C#C</td>\n",
       "      <td>-80.8</td>\n",
       "    </tr>\n",
       "    <tr>\n",
       "      <th>2</th>\n",
       "      <td>O=P(O)(O)OP(=O)(O)OP(=O)(O)OC[C@H]3O[C@@H](n2c...</td>\n",
       "      <td>187</td>\n",
       "    </tr>\n",
       "    <tr>\n",
       "      <th>3</th>\n",
       "      <td>OC=1C(OC(=O)C=1O)[C@@H](O)CO</td>\n",
       "      <td>190/192</td>\n",
       "    </tr>\n",
       "    <tr>\n",
       "      <th>4</th>\n",
       "      <td>O[C@@H]3[C@@H](O)[C@H](O)[C@@H](CO)O[C@H]3OC[C...</td>\n",
       "      <td>223</td>\n",
       "    </tr>\n",
       "    <tr>\n",
       "      <th>...</th>\n",
       "      <td>...</td>\n",
       "      <td>...</td>\n",
       "    </tr>\n",
       "    <tr>\n",
       "      <th>1363</th>\n",
       "      <td>C1=CSC(=C1)Br</td>\n",
       "      <td>-10</td>\n",
       "    </tr>\n",
       "    <tr>\n",
       "      <th>1364</th>\n",
       "      <td>C(CN(CC(=O)O)CC(=O)O)C(=O)O</td>\n",
       "      <td>190/200</td>\n",
       "    </tr>\n",
       "    <tr>\n",
       "      <th>1365</th>\n",
       "      <td>F[Nd](F)F</td>\n",
       "      <td>1374</td>\n",
       "    </tr>\n",
       "    <tr>\n",
       "      <th>1368</th>\n",
       "      <td>CCNC1=NC(=NC(=N1)Cl)NC(C)(C)C#N</td>\n",
       "      <td>168</td>\n",
       "    </tr>\n",
       "    <tr>\n",
       "      <th>1369</th>\n",
       "      <td>C1=CC=C(C=C1)N=NC2=CC=C(C=C2)O</td>\n",
       "      <td>155</td>\n",
       "    </tr>\n",
       "  </tbody>\n",
       "</table>\n",
       "<p>1061 rows × 2 columns</p>\n",
       "</div>"
      ],
      "text/plain": [
       "                                                 SMILES Melting temperature\n",
       "0                                                     N              -77.73\n",
       "1                                                   C#C               -80.8\n",
       "2     O=P(O)(O)OP(=O)(O)OP(=O)(O)OC[C@H]3O[C@@H](n2c...                 187\n",
       "3                          OC=1C(OC(=O)C=1O)[C@@H](O)CO             190/192\n",
       "4     O[C@@H]3[C@@H](O)[C@H](O)[C@@H](CO)O[C@H]3OC[C...                 223\n",
       "...                                                 ...                 ...\n",
       "1363                                      C1=CSC(=C1)Br                 -10\n",
       "1364                        C(CN(CC(=O)O)CC(=O)O)C(=O)O             190/200\n",
       "1365                                          F[Nd](F)F                1374\n",
       "1368                    CCNC1=NC(=NC(=N1)Cl)NC(C)(C)C#N                 168\n",
       "1369                     C1=CC=C(C=C1)N=NC2=CC=C(C=C2)O                 155\n",
       "\n",
       "[1061 rows x 2 columns]"
      ]
     },
     "execution_count": 2,
     "metadata": {},
     "output_type": "execute_result"
    }
   ],
   "source": [
    "df=pd.read_csv(\"wiki.csv\")\n",
    "\n",
    "#今回は融点を予測してみる\n",
    "df=df[[\"SMILES\",\"Melting temperature\"]]\n",
    "\n",
    "#抜けデータの削除\n",
    "df2=df.dropna()\n",
    "df2"
   ]
  },
  {
   "cell_type": "code",
   "execution_count": 3,
   "metadata": {},
   "outputs": [
    {
     "name": "stderr",
     "output_type": "stream",
     "text": [
      "C:\\Users\\kan\\anaconda3\\lib\\site-packages\\ipykernel_launcher.py:7: SettingWithCopyWarning: \n",
      "A value is trying to be set on a copy of a slice from a DataFrame.\n",
      "Try using .loc[row_indexer,col_indexer] = value instead\n",
      "\n",
      "See the caveats in the documentation: https://pandas.pydata.org/pandas-docs/stable/user_guide/indexing.html#returning-a-view-versus-a-copy\n",
      "  import sys\n"
     ]
    },
    {
     "data": {
      "text/html": [
       "<div>\n",
       "<style scoped>\n",
       "    .dataframe tbody tr th:only-of-type {\n",
       "        vertical-align: middle;\n",
       "    }\n",
       "\n",
       "    .dataframe tbody tr th {\n",
       "        vertical-align: top;\n",
       "    }\n",
       "\n",
       "    .dataframe thead th {\n",
       "        text-align: right;\n",
       "    }\n",
       "</style>\n",
       "<table border=\"1\" class=\"dataframe\">\n",
       "  <thead>\n",
       "    <tr style=\"text-align: right;\">\n",
       "      <th></th>\n",
       "      <th>SMILES</th>\n",
       "      <th>Melting temperature</th>\n",
       "    </tr>\n",
       "  </thead>\n",
       "  <tbody>\n",
       "    <tr>\n",
       "      <th>0</th>\n",
       "      <td>N</td>\n",
       "      <td>-77.73</td>\n",
       "    </tr>\n",
       "    <tr>\n",
       "      <th>1</th>\n",
       "      <td>C#C</td>\n",
       "      <td>-80.8</td>\n",
       "    </tr>\n",
       "    <tr>\n",
       "      <th>2</th>\n",
       "      <td>O=P(O)(O)OP(=O)(O)OP(=O)(O)OC[C@H]3O[C@@H](n2c...</td>\n",
       "      <td>187</td>\n",
       "    </tr>\n",
       "    <tr>\n",
       "      <th>3</th>\n",
       "      <td>OC=1C(OC(=O)C=1O)[C@@H](O)CO</td>\n",
       "      <td>190</td>\n",
       "    </tr>\n",
       "    <tr>\n",
       "      <th>4</th>\n",
       "      <td>O[C@@H]3[C@@H](O)[C@H](O)[C@@H](CO)O[C@H]3OC[C...</td>\n",
       "      <td>223</td>\n",
       "    </tr>\n",
       "    <tr>\n",
       "      <th>...</th>\n",
       "      <td>...</td>\n",
       "      <td>...</td>\n",
       "    </tr>\n",
       "    <tr>\n",
       "      <th>1363</th>\n",
       "      <td>C1=CSC(=C1)Br</td>\n",
       "      <td>-10</td>\n",
       "    </tr>\n",
       "    <tr>\n",
       "      <th>1364</th>\n",
       "      <td>C(CN(CC(=O)O)CC(=O)O)C(=O)O</td>\n",
       "      <td>190</td>\n",
       "    </tr>\n",
       "    <tr>\n",
       "      <th>1365</th>\n",
       "      <td>F[Nd](F)F</td>\n",
       "      <td>1374</td>\n",
       "    </tr>\n",
       "    <tr>\n",
       "      <th>1368</th>\n",
       "      <td>CCNC1=NC(=NC(=N1)Cl)NC(C)(C)C#N</td>\n",
       "      <td>168</td>\n",
       "    </tr>\n",
       "    <tr>\n",
       "      <th>1369</th>\n",
       "      <td>C1=CC=C(C=C1)N=NC2=CC=C(C=C2)O</td>\n",
       "      <td>155</td>\n",
       "    </tr>\n",
       "  </tbody>\n",
       "</table>\n",
       "<p>1061 rows × 2 columns</p>\n",
       "</div>"
      ],
      "text/plain": [
       "                                                 SMILES Melting temperature\n",
       "0                                                     N              -77.73\n",
       "1                                                   C#C               -80.8\n",
       "2     O=P(O)(O)OP(=O)(O)OP(=O)(O)OC[C@H]3O[C@@H](n2c...                 187\n",
       "3                          OC=1C(OC(=O)C=1O)[C@@H](O)CO                 190\n",
       "4     O[C@@H]3[C@@H](O)[C@H](O)[C@@H](CO)O[C@H]3OC[C...                 223\n",
       "...                                                 ...                 ...\n",
       "1363                                      C1=CSC(=C1)Br                 -10\n",
       "1364                        C(CN(CC(=O)O)CC(=O)O)C(=O)O                 190\n",
       "1365                                          F[Nd](F)F                1374\n",
       "1368                    CCNC1=NC(=NC(=N1)Cl)NC(C)(C)C#N                 168\n",
       "1369                     C1=CC=C(C=C1)N=NC2=CC=C(C=C2)O                 155\n",
       "\n",
       "[1061 rows x 2 columns]"
      ]
     },
     "execution_count": 3,
     "metadata": {},
     "output_type": "execute_result"
    }
   ],
   "source": [
    "#複数の融点がスラッシュ区切りで記録されているので、はじめのデータのみを使う\n",
    "\n",
    "#まずはスラッシュで区切られたものを分割する\n",
    "spl_y_df=df2[\"Melting temperature\"].str.split(\"/\", expand=True)\n",
    "\n",
    "#1列目を代入\n",
    "df2[\"Melting temperature\"]=spl_y_df[0]\n",
    "df2"
   ]
  },
  {
   "cell_type": "markdown",
   "metadata": {},
   "source": [
    "# Descriptorの計算"
   ]
  },
  {
   "cell_type": "code",
   "execution_count": 4,
   "metadata": {
    "scrolled": true
   },
   "outputs": [
    {
     "name": "stdout",
     "output_type": "stream",
     "text": [
      "failed to purse:  c1[nH]c2c(n1)c(=O)nc(n2)N\n",
      "please recheck SMILES\n",
      "invalid smiles! c1[nH]c2c(n1)c(=O)nc(n2)N\n",
      "failed to purse:  O=[Cl]=O\n",
      "please recheck SMILES\n",
      "invalid smiles! O=[Cl]=O\n",
      "failed to purse:  [Cd+2].[Cd+2].[Cd+2].[AsH6-3].[AsH6-3]\n",
      "please recheck SMILES\n",
      "invalid smiles! [Cd+2].[Cd+2].[Cd+2].[AsH6-3].[AsH6-3]\n",
      "failed to purse:  [H]1[BH]2[H][BH]3[BH]24[BH]1[H][BH]4[H]3\n",
      "please recheck SMILES\n",
      "invalid smiles! [H]1[BH]2[H][BH]3[BH]24[BH]1[H][BH]4[H]3\n",
      "failed to purse:  [O-2]=[Ce+4]=[O-2]\n",
      "please recheck SMILES\n",
      "invalid smiles! [O-2]=[Ce+4]=[O-2]\n",
      "failed to purse:  B1([H]3)(C2CCCC1CCC2)[H]B34C2CCCC4CCC2\n",
      "please recheck SMILES\n",
      "invalid smiles! B1([H]3)(C2CCCC1CCC2)[H]B34C2CCCC4CCC2\n",
      "failed to purse:  FCl(F)(F)(F)F\n",
      "please recheck SMILES\n",
      "invalid smiles! FCl(F)(F)(F)F\n",
      "failed to purse:  FBr(F)(F)(F)F\n",
      "please recheck SMILES\n",
      "invalid smiles! FBr(F)(F)(F)F\n",
      "failed to purse:  o=c([o-])C.[N+H4]\n",
      "please recheck SMILES\n",
      "invalid smiles! o=c([o-])C.[N+H4]\n",
      "failed to purse:  c1=cc=c[cH+]c=c1\n",
      "please recheck SMILES\n",
      "invalid smiles! c1=cc=c[cH+]c=c1\n",
      "failed to purse:  [Na+].[Na+].[Na+].[PH6-3]\n",
      "please recheck SMILES\n",
      "invalid smiles! [Na+].[Na+].[Na+].[PH6-3]\n",
      "failed to purse:  FCl(=O)(=O)=O\n",
      "please recheck SMILES\n",
      "invalid smiles! FCl(=O)(=O)=O\n",
      "failed to purse:  [K+].o=c(-c(=o)o1)o[Fe-3]123(oc(-c(=o)o2)=o)oc(-c(=o)o3)=o.[K+].[K+]\n",
      "please recheck SMILES\n",
      "invalid smiles! [K+].o=c(-c(=o)o1)o[Fe-3]123(oc(-c(=o)o2)=o)oc(-c(=o)o3)=o.[K+].[K+]\n",
      "failed to purse:  F[Si-2](F)(F)(F)(F)F.[NH4+].[NH4+]\n",
      "please recheck SMILES\n",
      "invalid smiles! F[Si-2](F)(F)(F)(F)F.[NH4+].[NH4+]\n"
     ]
    }
   ],
   "source": [
    "#クラスを使用する為の初期化処理\n",
    "desc=RDKitDescriptors()\n",
    "\n",
    "#smilesのリストをSMILES_listに代入\n",
    "SMILES_list=df2[\"SMILES\"].values\n",
    "\n",
    "#記述子を計算。一部の化合物でエラーが出る。\n",
    "desc_list=[desc.calc(i,dict_mode=False) for i in SMILES_list]\n",
    "\n",
    "#エラーになった化合物では記述子の配列の代わりに-1が返るので、それをもとに選別フィルターを作成\n",
    "available_filter=[(False if type(i)==type(1) else True) for i in desc_list]"
   ]
  },
  {
   "cell_type": "code",
   "execution_count": 5,
   "metadata": {},
   "outputs": [
    {
     "data": {
      "text/plain": [
       "array([[ -77.73],\n",
       "       [ -80.8 ],\n",
       "       [ 187.  ],\n",
       "       ...,\n",
       "       [1374.  ],\n",
       "       [ 168.  ],\n",
       "       [ 155.  ]])"
      ]
     },
     "execution_count": 5,
     "metadata": {},
     "output_type": "execute_result"
    }
   ],
   "source": [
    "#エラーになっていないidのデータのみ残す\n",
    "df3=df2[available_filter]\n",
    "\n",
    "#yの設定\n",
    "y=df3[\"Melting temperature\"].values\n",
    "\n",
    "#文字列になっているので、floatに変換\n",
    "Y=np.array(y,dtype=np.float)\n",
    "\n",
    "#scikit-learnでは、yは下記の形に変換しないと計算ができない(おまじない)\n",
    "Y=Y.reshape(-1,1)\n",
    "Y"
   ]
  },
  {
   "cell_type": "code",
   "execution_count": 6,
   "metadata": {},
   "outputs": [],
   "source": [
    "#計算に失敗した記述子は削除する\n",
    "X=[x for x in desc_list if type(x)!=type(1)]\n",
    "\n",
    "#numpyに変換\n",
    "X=np.array(X)\n"
   ]
  },
  {
   "cell_type": "code",
   "execution_count": 7,
   "metadata": {},
   "outputs": [
    {
     "name": "stdout",
     "output_type": "stream",
     "text": [
      "(1047, 200)\n",
      "(1047, 1)\n"
     ]
    }
   ],
   "source": [
    "print(X.shape)\n",
    "print(Y.shape)"
   ]
  },
  {
   "cell_type": "markdown",
   "metadata": {},
   "source": [
    "# 機械学習の為の前処理"
   ]
  },
  {
   "cell_type": "code",
   "execution_count": 8,
   "metadata": {},
   "outputs": [
    {
     "data": {
      "text/plain": [
       "array([[2.29096901],\n",
       "       [2.28409219],\n",
       "       [2.66289943],\n",
       "       ...,\n",
       "       [3.21673315],\n",
       "       [2.64458628],\n",
       "       [2.63159595]])"
      ]
     },
     "execution_count": 8,
     "metadata": {},
     "output_type": "execute_result"
    }
   ],
   "source": [
    "#融点はrangeが広いので、ケルビンスケールに変更後、logにしてしまう (ノウハウ)\n",
    "log_Y=np.log10(Y+273.15)\n",
    "log_Y"
   ]
  },
  {
   "cell_type": "code",
   "execution_count": 9,
   "metadata": {},
   "outputs": [],
   "source": [
    "from sklearn.model_selection import train_test_split\n",
    "\n",
    "#10%をランダムに選んでテストデータにする。 小規模データの場合は  cross validationした方が良いが、今回は割愛\n",
    "X_train, X_test, Y_train, Y_test = train_test_split(X, log_Y,test_size=0.1)"
   ]
  },
  {
   "cell_type": "code",
   "execution_count": 10,
   "metadata": {},
   "outputs": [],
   "source": [
    "#平均がゼロ、標準偏差が1になるように正規化する\n",
    "from sklearn.preprocessing import StandardScaler\n",
    "\n",
    "\n",
    "#X\n",
    "X_scaler=StandardScaler()\n",
    "\n",
    "scaled_X_train=X_scaler.fit_transform(X_train)\n",
    "scaled_X_test=X_scaler.transform(X_test)\n",
    "\n",
    "#Y\n",
    "Y_scaler=StandardScaler()\n",
    "\n",
    "scaled_Y_train=Y_scaler.fit_transform(Y_train)\n",
    "scaled_Y_test=Y_scaler.transform(Y_test)"
   ]
  },
  {
   "cell_type": "markdown",
   "metadata": {},
   "source": [
    "# 機械学習"
   ]
  },
  {
   "cell_type": "code",
   "execution_count": 11,
   "metadata": {},
   "outputs": [],
   "source": [
    "#プロット用のutility\n",
    "from sklearn.metrics import r2_score\n",
    "def auto_analysis(tr_X,tr_Y,te_X,te_Y,model):\n",
    "    model.fit(tr_X,tr_Y)\n",
    "    \n",
    "    pred_tr_Y=model.predict(tr_X)\n",
    "    pred_te_Y=model.predict(te_X)\n",
    "    \n",
    "    plt.scatter(tr_Y,pred_tr_Y)\n",
    "    plt.scatter(te_Y,pred_te_Y)\n",
    "    \n",
    "    tr_r2=r2_score(tr_Y,pred_tr_Y)\n",
    "    te_r2=r2_score(te_Y,pred_te_Y)\n",
    "    \n",
    "    print(\"train score: \",tr_r2)\n",
    "    print(\"test score: \",te_r2)\n",
    "    \n",
    "    \n",
    "    return model\n",
    "    "
   ]
  },
  {
   "cell_type": "markdown",
   "metadata": {},
   "source": [
    "# ハイパーパラメータの調整\n",
    "- 公式マニュアルに従ってパラメータの意味を調べ、調節していく\n",
    "- https://scikit-learn.org/stable/modules/generated/sklearn.ensemble.RandomForestRegressor.html"
   ]
  },
  {
   "cell_type": "code",
   "execution_count": 12,
   "metadata": {},
   "outputs": [
    {
     "name": "stderr",
     "output_type": "stream",
     "text": [
      "C:\\Users\\kan\\anaconda3\\lib\\site-packages\\ipykernel_launcher.py:4: DataConversionWarning: A column-vector y was passed when a 1d array was expected. Please change the shape of y to (n_samples,), for example using ravel().\n",
      "  after removing the cwd from sys.path.\n"
     ]
    },
    {
     "name": "stdout",
     "output_type": "stream",
     "text": [
      "train score:  0.9583827572037464\n",
      "test score:  0.47386314542271546\n"
     ]
    },
    {
     "data": {
      "image/png": "[encoded data removed]",
      "text/plain": [
       "<Figure size 432x288 with 1 Axes>"
      ]
     },
     "metadata": {
      "needs_background": "light"
     },
     "output_type": "display_data"
    }
   ],
   "source": [
    "#random forest\n",
    "from sklearn.ensemble import RandomForestRegressor\n",
    "\n",
    "model=RandomForestRegressor()\n",
    "model=auto_analysis(scaled_X_train,scaled_Y_train,scaled_X_test,scaled_Y_test,model)\n"
   ]
  },
  {
   "cell_type": "code",
   "execution_count": 13,
   "metadata": {},
   "outputs": [
    {
     "name": "stdout",
     "output_type": "stream",
     "text": [
      "train score:  0.6587510282330742\n",
      "test score:  0.30386178102516836\n"
     ]
    },
    {
     "name": "stderr",
     "output_type": "stream",
     "text": [
      "C:\\Users\\kan\\anaconda3\\lib\\site-packages\\ipykernel_launcher.py:4: DataConversionWarning: A column-vector y was passed when a 1d array was expected. Please change the shape of y to (n_samples,), for example using ravel().\n",
      "  after removing the cwd from sys.path.\n"
     ]
    },
    {
     "data": {
      "image/png": "[encoded data removed]",
      "text/plain": [
       "<Figure size 432x288 with 1 Axes>"
      ]
     },
     "metadata": {
      "needs_background": "light"
     },
     "output_type": "display_data"
    }
   ],
   "source": [
    "#random forestの主なハイパーパラメータはn_estimators,max_depth\n",
    "\n",
    "#手作業で値を変えてみる\n",
    "model=RandomForestRegressor(n_estimators=10,max_depth=3)\n",
    "model=auto_analysis(scaled_X_train,scaled_Y_train,scaled_X_test,scaled_Y_test,model)\n"
   ]
  },
  {
   "cell_type": "code",
   "execution_count": 14,
   "metadata": {},
   "outputs": [],
   "source": [
    "import warnings\n",
    "warnings.simplefilter('ignore')\n",
    "\n",
    "#r2を計算するためのユーティリティ関数\n",
    "def get_r2_test(tr_X,tr_Y,te_X,te_Y,model):\n",
    "    model.fit(tr_X,tr_Y)\n",
    "    \n",
    "    pred_tr_Y=model.predict(tr_X)\n",
    "    pred_te_Y=model.predict(te_X)\n",
    "    \n",
    "    te_r2=r2_score(te_Y,pred_te_Y)\n",
    "    return te_r2"
   ]
  },
  {
   "cell_type": "code",
   "execution_count": 15,
   "metadata": {},
   "outputs": [
    {
     "name": "stdout",
     "output_type": "stream",
     "text": [
      "5 3 0.28239330579912847\n",
      "5 5 0.3733105296894501\n",
      "5 10 0.35176930692789543\n",
      "10 3 0.2814557129187555\n",
      "10 5 0.4024747005834488\n",
      "10 10 0.4595718929991558\n",
      "50 3 0.30435155527952973\n",
      "50 5 0.4139887008648464\n",
      "50 10 0.48432261002230603\n",
      "100 3 0.29479124097523635\n",
      "100 5 0.3934097115138868\n",
      "100 10 0.5008869827570226\n",
      "best:  0.5008869827570226 [100, 10]\n"
     ]
    }
   ],
   "source": [
    "#グリッドサーチ\n",
    "best_score=0\n",
    "for n in [5,10,50,100]:\n",
    "    for dep in [3,5,10]:\n",
    "        model=RandomForestRegressor(n_estimators=n,max_depth=dep)\n",
    "        score=get_r2_test(scaled_X_train,scaled_Y_train,scaled_X_test,scaled_Y_test,model)\n",
    "        print(n,dep,score)\n",
    "        \n",
    "        if score>best_score:\n",
    "            best_score=score\n",
    "            best_cond=[n,dep]\n",
    "\n",
    "print(\"best: \",best_score,best_cond)"
   ]
  },
  {
   "cell_type": "code",
   "execution_count": 16,
   "metadata": {},
   "outputs": [
    {
     "name": "stdout",
     "output_type": "stream",
     "text": [
      "168 2 0.23563803181268073\n",
      "193 19 0.4998685224523254\n",
      "51 9 0.4517109313799239\n",
      "38 14 0.46982332527600634\n",
      "106 1 0.17607249454878382\n",
      "7 19 0.5404670069424233\n",
      "53 19 0.4849451877303286\n",
      "153 4 0.3603819040135682\n",
      "197 13 0.48217524888495245\n",
      "94 4 0.35075313035266653\n",
      "best:  0.5404670069424233 [7, 19]\n"
     ]
    }
   ],
   "source": [
    "#ランダムサーチ\n",
    "\n",
    "import random\n",
    "\n",
    "best_score=0\n",
    "for i in range(10):\n",
    "    n=random.randint(1,200)\n",
    "    dep=random.randint(1,20)\n",
    "    \n",
    "    model=RandomForestRegressor(n_estimators=n,max_depth=dep)\n",
    "    score=get_r2_test(scaled_X_train,scaled_Y_train,scaled_X_test,scaled_Y_test,model)\n",
    "    print(n,dep,score)\n",
    "\n",
    "    if score>best_score:\n",
    "        best_score=score\n",
    "        best_cond=[n,dep]\n",
    "        \n",
    "print(\"best: \",best_score,best_cond)"
   ]
  },
  {
   "cell_type": "code",
   "execution_count": 17,
   "metadata": {},
   "outputs": [],
   "source": [
    "#ベイズ最適化\n",
    "#GPyOptをインストールすること\n",
    "\n",
    "import GPyOpt\n",
    "\n",
    "#ユーティリティ関数\n",
    "def f(x):\n",
    "    n,dep = int(x[:,0]),int(x[:,1])\n",
    "    model=RandomForestRegressor(n_estimators=n,max_depth=dep)\n",
    "    score=get_r2_test(scaled_X_train,scaled_Y_train,scaled_X_test,scaled_Y_test,model)\n",
    "    \n",
    "    return -score\n",
    "\n",
    "bounds = [{'name': 'n', 'type': 'discrete', 'domain': range(1,100)},\n",
    "         {'name': 'dep', 'type': 'discrete', 'domain': range(1,20)}\n",
    "         ]\n",
    "myBopt = GPyOpt.methods.BayesianOptimization(f=f, domain=bounds,initial_design_numdata=3)"
   ]
  },
  {
   "cell_type": "code",
   "execution_count": 18,
   "metadata": {},
   "outputs": [
    {
     "name": "stdout",
     "output_type": "stream",
     "text": [
      "num acquisition: 1, time elapsed: 1.29s\n",
      "num acquisition: 2, time elapsed: 1.80s\n",
      "num acquisition: 3, time elapsed: 3.08s\n",
      "num acquisition: 4, time elapsed: 4.56s\n",
      "num acquisition: 5, time elapsed: 5.51s\n",
      "num acquisition: 6, time elapsed: 6.92s\n",
      "num acquisition: 7, time elapsed: 7.61s\n",
      "num acquisition: 8, time elapsed: 9.33s\n",
      "num acquisition: 9, time elapsed: 11.26s\n",
      "num acquisition: 10, time elapsed: 13.11s\n",
      "condition:  [59. 19.]\n",
      "best score 0.5097671942051618\n"
     ]
    }
   ],
   "source": [
    "myBopt.run_optimization(max_iter=10,verbosity=1)\n",
    "print(\"condition: \",myBopt.x_opt)\n",
    "print(\"best score\" ,-myBopt.fx_opt)"
   ]
  },
  {
   "cell_type": "code",
   "execution_count": null,
   "metadata": {},
   "outputs": [],
   "source": []
  }
 ],
 "metadata": {
  "colab": {
   "name": "rdkit.ipynb",
   "provenance": []
  },
  "kernelspec": {
   "display_name": "Python 3",
   "language": "python",
   "name": "python3"
  },
  "language_info": {
   "codemirror_mode": {
    "name": "ipython",
    "version": 3
   },
   "file_extension": ".py",
   "mimetype": "text/x-python",
   "name": "python",
   "nbconvert_exporter": "python",
   "pygments_lexer": "ipython3",
   "version": "3.7.6"
  },
  "toc": {
   "base_numbering": 1,
   "nav_menu": {},
   "number_sections": true,
   "sideBar": true,
   "skip_h1_title": false,
   "title_cell": "Table of Contents",
   "title_sidebar": "Contents",
   "toc_cell": false,
   "toc_position": {},
   "toc_section_display": true,
   "toc_window_display": false
  }
 },
 "nbformat": 4,
 "nbformat_minor": 1
}
