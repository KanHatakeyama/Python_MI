{
 "cells": [
  {
   "cell_type": "markdown",
   "metadata": {},
   "source": [
    "# 機械学習モデルを使って、未知化合物の物性を予測してみる"
   ]
  },
  {
   "cell_type": "code",
   "execution_count": 1,
   "metadata": {
    "colab": {},
    "colab_type": "code",
    "id": "dRVA4kvBDraM"
   },
   "outputs": [],
   "source": [
    "#化合物処理の為の関数・クラス群\n",
    "from RDKitWrapper import draw_SMILES,Fingerprint,RDKitDescriptors\n",
    "\n",
    "import pandas as pd\n",
    "import numpy as np\n",
    "import matplotlib.pyplot as plt\n"
   ]
  },
  {
   "cell_type": "markdown",
   "metadata": {},
   "source": [
    "# データベースの読み込み (data from wikipedia)"
   ]
  },
  {
   "cell_type": "code",
   "execution_count": 2,
   "metadata": {},
   "outputs": [
    {
     "data": {
      "text/html": [
       "<div>\n",
       "<style scoped>\n",
       "    .dataframe tbody tr th:only-of-type {\n",
       "        vertical-align: middle;\n",
       "    }\n",
       "\n",
       "    .dataframe tbody tr th {\n",
       "        vertical-align: top;\n",
       "    }\n",
       "\n",
       "    .dataframe thead th {\n",
       "        text-align: right;\n",
       "    }\n",
       "</style>\n",
       "<table border=\"1\" class=\"dataframe\">\n",
       "  <thead>\n",
       "    <tr style=\"text-align: right;\">\n",
       "      <th></th>\n",
       "      <th>SMILES</th>\n",
       "      <th>Melting temperature</th>\n",
       "    </tr>\n",
       "  </thead>\n",
       "  <tbody>\n",
       "    <tr>\n",
       "      <th>0</th>\n",
       "      <td>N</td>\n",
       "      <td>-77.73</td>\n",
       "    </tr>\n",
       "    <tr>\n",
       "      <th>1</th>\n",
       "      <td>C#C</td>\n",
       "      <td>-80.8</td>\n",
       "    </tr>\n",
       "    <tr>\n",
       "      <th>2</th>\n",
       "      <td>O=P(O)(O)OP(=O)(O)OP(=O)(O)OC[C@H]3O[C@@H](n2c...</td>\n",
       "      <td>187</td>\n",
       "    </tr>\n",
       "    <tr>\n",
       "      <th>3</th>\n",
       "      <td>OC=1C(OC(=O)C=1O)[C@@H](O)CO</td>\n",
       "      <td>190/192</td>\n",
       "    </tr>\n",
       "    <tr>\n",
       "      <th>4</th>\n",
       "      <td>O[C@@H]3[C@@H](O)[C@H](O)[C@@H](CO)O[C@H]3OC[C...</td>\n",
       "      <td>223</td>\n",
       "    </tr>\n",
       "    <tr>\n",
       "      <th>...</th>\n",
       "      <td>...</td>\n",
       "      <td>...</td>\n",
       "    </tr>\n",
       "    <tr>\n",
       "      <th>1363</th>\n",
       "      <td>C1=CSC(=C1)Br</td>\n",
       "      <td>-10</td>\n",
       "    </tr>\n",
       "    <tr>\n",
       "      <th>1364</th>\n",
       "      <td>C(CN(CC(=O)O)CC(=O)O)C(=O)O</td>\n",
       "      <td>190/200</td>\n",
       "    </tr>\n",
       "    <tr>\n",
       "      <th>1365</th>\n",
       "      <td>F[Nd](F)F</td>\n",
       "      <td>1374</td>\n",
       "    </tr>\n",
       "    <tr>\n",
       "      <th>1368</th>\n",
       "      <td>CCNC1=NC(=NC(=N1)Cl)NC(C)(C)C#N</td>\n",
       "      <td>168</td>\n",
       "    </tr>\n",
       "    <tr>\n",
       "      <th>1369</th>\n",
       "      <td>C1=CC=C(C=C1)N=NC2=CC=C(C=C2)O</td>\n",
       "      <td>155</td>\n",
       "    </tr>\n",
       "  </tbody>\n",
       "</table>\n",
       "<p>1061 rows × 2 columns</p>\n",
       "</div>"
      ],
      "text/plain": [
       "                                                 SMILES Melting temperature\n",
       "0                                                     N              -77.73\n",
       "1                                                   C#C               -80.8\n",
       "2     O=P(O)(O)OP(=O)(O)OP(=O)(O)OC[C@H]3O[C@@H](n2c...                 187\n",
       "3                          OC=1C(OC(=O)C=1O)[C@@H](O)CO             190/192\n",
       "4     O[C@@H]3[C@@H](O)[C@H](O)[C@@H](CO)O[C@H]3OC[C...                 223\n",
       "...                                                 ...                 ...\n",
       "1363                                      C1=CSC(=C1)Br                 -10\n",
       "1364                        C(CN(CC(=O)O)CC(=O)O)C(=O)O             190/200\n",
       "1365                                          F[Nd](F)F                1374\n",
       "1368                    CCNC1=NC(=NC(=N1)Cl)NC(C)(C)C#N                 168\n",
       "1369                     C1=CC=C(C=C1)N=NC2=CC=C(C=C2)O                 155\n",
       "\n",
       "[1061 rows x 2 columns]"
      ]
     },
     "execution_count": 2,
     "metadata": {},
     "output_type": "execute_result"
    }
   ],
   "source": [
    "df=pd.read_csv(\"wiki.csv\")\n",
    "\n",
    "#今回は融点を予測してみる\n",
    "df=df[[\"SMILES\",\"Melting temperature\"]]\n",
    "\n",
    "#抜けデータの削除\n",
    "df2=df.dropna()\n",
    "df2"
   ]
  },
  {
   "cell_type": "code",
   "execution_count": 3,
   "metadata": {},
   "outputs": [
    {
     "name": "stderr",
     "output_type": "stream",
     "text": [
      "C:\\Users\\kan\\anaconda3\\lib\\site-packages\\ipykernel_launcher.py:7: SettingWithCopyWarning: \n",
      "A value is trying to be set on a copy of a slice from a DataFrame.\n",
      "Try using .loc[row_indexer,col_indexer] = value instead\n",
      "\n",
      "See the caveats in the documentation: https://pandas.pydata.org/pandas-docs/stable/user_guide/indexing.html#returning-a-view-versus-a-copy\n",
      "  import sys\n"
     ]
    },
    {
     "data": {
      "text/html": [
       "<div>\n",
       "<style scoped>\n",
       "    .dataframe tbody tr th:only-of-type {\n",
       "        vertical-align: middle;\n",
       "    }\n",
       "\n",
       "    .dataframe tbody tr th {\n",
       "        vertical-align: top;\n",
       "    }\n",
       "\n",
       "    .dataframe thead th {\n",
       "        text-align: right;\n",
       "    }\n",
       "</style>\n",
       "<table border=\"1\" class=\"dataframe\">\n",
       "  <thead>\n",
       "    <tr style=\"text-align: right;\">\n",
       "      <th></th>\n",
       "      <th>SMILES</th>\n",
       "      <th>Melting temperature</th>\n",
       "    </tr>\n",
       "  </thead>\n",
       "  <tbody>\n",
       "    <tr>\n",
       "      <th>0</th>\n",
       "      <td>N</td>\n",
       "      <td>-77.73</td>\n",
       "    </tr>\n",
       "    <tr>\n",
       "      <th>1</th>\n",
       "      <td>C#C</td>\n",
       "      <td>-80.8</td>\n",
       "    </tr>\n",
       "    <tr>\n",
       "      <th>2</th>\n",
       "      <td>O=P(O)(O)OP(=O)(O)OP(=O)(O)OC[C@H]3O[C@@H](n2c...</td>\n",
       "      <td>187</td>\n",
       "    </tr>\n",
       "    <tr>\n",
       "      <th>3</th>\n",
       "      <td>OC=1C(OC(=O)C=1O)[C@@H](O)CO</td>\n",
       "      <td>190</td>\n",
       "    </tr>\n",
       "    <tr>\n",
       "      <th>4</th>\n",
       "      <td>O[C@@H]3[C@@H](O)[C@H](O)[C@@H](CO)O[C@H]3OC[C...</td>\n",
       "      <td>223</td>\n",
       "    </tr>\n",
       "    <tr>\n",
       "      <th>...</th>\n",
       "      <td>...</td>\n",
       "      <td>...</td>\n",
       "    </tr>\n",
       "    <tr>\n",
       "      <th>1363</th>\n",
       "      <td>C1=CSC(=C1)Br</td>\n",
       "      <td>-10</td>\n",
       "    </tr>\n",
       "    <tr>\n",
       "      <th>1364</th>\n",
       "      <td>C(CN(CC(=O)O)CC(=O)O)C(=O)O</td>\n",
       "      <td>190</td>\n",
       "    </tr>\n",
       "    <tr>\n",
       "      <th>1365</th>\n",
       "      <td>F[Nd](F)F</td>\n",
       "      <td>1374</td>\n",
       "    </tr>\n",
       "    <tr>\n",
       "      <th>1368</th>\n",
       "      <td>CCNC1=NC(=NC(=N1)Cl)NC(C)(C)C#N</td>\n",
       "      <td>168</td>\n",
       "    </tr>\n",
       "    <tr>\n",
       "      <th>1369</th>\n",
       "      <td>C1=CC=C(C=C1)N=NC2=CC=C(C=C2)O</td>\n",
       "      <td>155</td>\n",
       "    </tr>\n",
       "  </tbody>\n",
       "</table>\n",
       "<p>1061 rows × 2 columns</p>\n",
       "</div>"
      ],
      "text/plain": [
       "                                                 SMILES Melting temperature\n",
       "0                                                     N              -77.73\n",
       "1                                                   C#C               -80.8\n",
       "2     O=P(O)(O)OP(=O)(O)OP(=O)(O)OC[C@H]3O[C@@H](n2c...                 187\n",
       "3                          OC=1C(OC(=O)C=1O)[C@@H](O)CO                 190\n",
       "4     O[C@@H]3[C@@H](O)[C@H](O)[C@@H](CO)O[C@H]3OC[C...                 223\n",
       "...                                                 ...                 ...\n",
       "1363                                      C1=CSC(=C1)Br                 -10\n",
       "1364                        C(CN(CC(=O)O)CC(=O)O)C(=O)O                 190\n",
       "1365                                          F[Nd](F)F                1374\n",
       "1368                    CCNC1=NC(=NC(=N1)Cl)NC(C)(C)C#N                 168\n",
       "1369                     C1=CC=C(C=C1)N=NC2=CC=C(C=C2)O                 155\n",
       "\n",
       "[1061 rows x 2 columns]"
      ]
     },
     "execution_count": 3,
     "metadata": {},
     "output_type": "execute_result"
    }
   ],
   "source": [
    "#複数の融点がスラッシュ区切りで記録されているので、はじめのデータのみを使う\n",
    "\n",
    "#まずはスラッシュで区切られたものを分割する\n",
    "spl_y_df=df2[\"Melting temperature\"].str.split(\"/\", expand=True)\n",
    "\n",
    "#1列目を代入\n",
    "df2[\"Melting temperature\"]=spl_y_df[0]\n",
    "df2"
   ]
  },
  {
   "cell_type": "markdown",
   "metadata": {},
   "source": [
    "# Descriptorの計算"
   ]
  },
  {
   "cell_type": "code",
   "execution_count": 4,
   "metadata": {
    "scrolled": true
   },
   "outputs": [
    {
     "name": "stdout",
     "output_type": "stream",
     "text": [
      "failed to purse:  c1[nH]c2c(n1)c(=O)nc(n2)N\n",
      "please recheck SMILES\n",
      "invalid smiles! c1[nH]c2c(n1)c(=O)nc(n2)N\n",
      "failed to purse:  O=[Cl]=O\n",
      "please recheck SMILES\n",
      "invalid smiles! O=[Cl]=O\n",
      "failed to purse:  [Cd+2].[Cd+2].[Cd+2].[AsH6-3].[AsH6-3]\n",
      "please recheck SMILES\n",
      "invalid smiles! [Cd+2].[Cd+2].[Cd+2].[AsH6-3].[AsH6-3]\n",
      "failed to purse:  [H]1[BH]2[H][BH]3[BH]24[BH]1[H][BH]4[H]3\n",
      "please recheck SMILES\n",
      "invalid smiles! [H]1[BH]2[H][BH]3[BH]24[BH]1[H][BH]4[H]3\n",
      "failed to purse:  [O-2]=[Ce+4]=[O-2]\n",
      "please recheck SMILES\n",
      "invalid smiles! [O-2]=[Ce+4]=[O-2]\n",
      "failed to purse:  B1([H]3)(C2CCCC1CCC2)[H]B34C2CCCC4CCC2\n",
      "please recheck SMILES\n",
      "invalid smiles! B1([H]3)(C2CCCC1CCC2)[H]B34C2CCCC4CCC2\n",
      "failed to purse:  FCl(F)(F)(F)F\n",
      "please recheck SMILES\n",
      "invalid smiles! FCl(F)(F)(F)F\n",
      "failed to purse:  FBr(F)(F)(F)F\n",
      "please recheck SMILES\n",
      "invalid smiles! FBr(F)(F)(F)F\n",
      "failed to purse:  o=c([o-])C.[N+H4]\n",
      "please recheck SMILES\n",
      "invalid smiles! o=c([o-])C.[N+H4]\n",
      "failed to purse:  c1=cc=c[cH+]c=c1\n",
      "please recheck SMILES\n",
      "invalid smiles! c1=cc=c[cH+]c=c1\n",
      "failed to purse:  [Na+].[Na+].[Na+].[PH6-3]\n",
      "please recheck SMILES\n",
      "invalid smiles! [Na+].[Na+].[Na+].[PH6-3]\n",
      "failed to purse:  FCl(=O)(=O)=O\n",
      "please recheck SMILES\n",
      "invalid smiles! FCl(=O)(=O)=O\n",
      "failed to purse:  [K+].o=c(-c(=o)o1)o[Fe-3]123(oc(-c(=o)o2)=o)oc(-c(=o)o3)=o.[K+].[K+]\n",
      "please recheck SMILES\n",
      "invalid smiles! [K+].o=c(-c(=o)o1)o[Fe-3]123(oc(-c(=o)o2)=o)oc(-c(=o)o3)=o.[K+].[K+]\n",
      "failed to purse:  F[Si-2](F)(F)(F)(F)F.[NH4+].[NH4+]\n",
      "please recheck SMILES\n",
      "invalid smiles! F[Si-2](F)(F)(F)(F)F.[NH4+].[NH4+]\n"
     ]
    }
   ],
   "source": [
    "#クラスを使用する為の初期化処理\n",
    "desc=RDKitDescriptors()\n",
    "\n",
    "#smilesのリストをSMILES_listに代入\n",
    "SMILES_list=df2[\"SMILES\"].values\n",
    "\n",
    "#記述子を計算。一部の化合物でエラーが出る。\n",
    "desc_list=[desc.calc(i,dict_mode=False) for i in SMILES_list]\n",
    "\n",
    "#エラーになった化合物では記述子の配列の代わりに-1が返るので、それをもとに選別フィルターを作成\n",
    "available_filter=[(False if type(i)==type(1) else True) for i in desc_list]"
   ]
  },
  {
   "cell_type": "code",
   "execution_count": 5,
   "metadata": {},
   "outputs": [
    {
     "data": {
      "text/plain": [
       "array([[ -77.73],\n",
       "       [ -80.8 ],\n",
       "       [ 187.  ],\n",
       "       ...,\n",
       "       [1374.  ],\n",
       "       [ 168.  ],\n",
       "       [ 155.  ]])"
      ]
     },
     "execution_count": 5,
     "metadata": {},
     "output_type": "execute_result"
    }
   ],
   "source": [
    "#エラーになっていないidのデータのみ残す\n",
    "df3=df2[available_filter]\n",
    "\n",
    "#yの設定\n",
    "y=df3[\"Melting temperature\"].values\n",
    "\n",
    "#文字列になっているので、floatに変換\n",
    "Y=np.array(y,dtype=np.float)\n",
    "\n",
    "#scikit-learnでは、yは下記の形に変換しないと計算ができない(おまじない)\n",
    "Y=Y.reshape(-1,1)\n",
    "Y"
   ]
  },
  {
   "cell_type": "code",
   "execution_count": 6,
   "metadata": {},
   "outputs": [],
   "source": [
    "#計算に失敗した記述子は削除する\n",
    "X=[x for x in desc_list if type(x)!=type(1)]\n",
    "\n",
    "#numpyに変換\n",
    "X=np.array(X)\n"
   ]
  },
  {
   "cell_type": "code",
   "execution_count": 7,
   "metadata": {},
   "outputs": [
    {
     "name": "stdout",
     "output_type": "stream",
     "text": [
      "(1047, 200)\n",
      "(1047, 1)\n"
     ]
    }
   ],
   "source": [
    "print(X.shape)\n",
    "print(Y.shape)"
   ]
  },
  {
   "cell_type": "markdown",
   "metadata": {},
   "source": [
    "# 機械学習の為の前処理"
   ]
  },
  {
   "cell_type": "code",
   "execution_count": 8,
   "metadata": {},
   "outputs": [
    {
     "data": {
      "text/plain": [
       "array([[2.29096901],\n",
       "       [2.28409219],\n",
       "       [2.66289943],\n",
       "       ...,\n",
       "       [3.21673315],\n",
       "       [2.64458628],\n",
       "       [2.63159595]])"
      ]
     },
     "execution_count": 8,
     "metadata": {},
     "output_type": "execute_result"
    }
   ],
   "source": [
    "#融点はrangeが広いので、ケルビンスケールに変更後、logにしてしまう (ノウハウ)\n",
    "log_Y=np.log10(Y+273.15)\n",
    "log_Y"
   ]
  },
  {
   "cell_type": "code",
   "execution_count": 9,
   "metadata": {},
   "outputs": [],
   "source": [
    "from sklearn.model_selection import train_test_split\n",
    "\n",
    "#10%をランダムに選んでテストデータにする。 小規模データの場合は  cross validationした方が良いが、今回は割愛\n",
    "X_train, X_test, Y_train, Y_test = train_test_split(X, log_Y,test_size=0.1)"
   ]
  },
  {
   "cell_type": "code",
   "execution_count": 10,
   "metadata": {},
   "outputs": [],
   "source": [
    "#平均がゼロ、標準偏差が1になるように正規化する\n",
    "from sklearn.preprocessing import StandardScaler\n",
    "\n",
    "\n",
    "#X\n",
    "X_scaler=StandardScaler()\n",
    "\n",
    "scaled_X_train=X_scaler.fit_transform(X_train)\n",
    "scaled_X_test=X_scaler.transform(X_test)\n",
    "\n",
    "#Y\n",
    "Y_scaler=StandardScaler()\n",
    "\n",
    "scaled_Y_train=Y_scaler.fit_transform(Y_train)\n",
    "scaled_Y_test=Y_scaler.transform(Y_test)"
   ]
  },
  {
   "cell_type": "markdown",
   "metadata": {},
   "source": [
    "# 機械学習"
   ]
  },
  {
   "cell_type": "code",
   "execution_count": 11,
   "metadata": {},
   "outputs": [],
   "source": [
    "#プロット用のutility\n",
    "from sklearn.metrics import r2_score\n",
    "def auto_analysis(tr_X,tr_Y,te_X,te_Y,model):\n",
    "    model.fit(tr_X,tr_Y)\n",
    "    \n",
    "    pred_tr_Y=model.predict(tr_X)\n",
    "    pred_te_Y=model.predict(te_X)\n",
    "    \n",
    "    plt.scatter(tr_Y,pred_tr_Y)\n",
    "    plt.scatter(te_Y,pred_te_Y)\n",
    "    \n",
    "    tr_r2=r2_score(tr_Y,pred_tr_Y)\n",
    "    te_r2=r2_score(te_Y,pred_te_Y)\n",
    "    \n",
    "    print(\"train score: \",tr_r2)\n",
    "    print(\"test score: \",te_r2)\n",
    "    \n",
    "    \n",
    "    return model\n",
    "    "
   ]
  },
  {
   "cell_type": "code",
   "execution_count": 12,
   "metadata": {},
   "outputs": [
    {
     "name": "stderr",
     "output_type": "stream",
     "text": [
      "C:\\Users\\kan\\anaconda3\\lib\\site-packages\\ipykernel_launcher.py:4: DataConversionWarning: A column-vector y was passed when a 1d array was expected. Please change the shape of y to (n_samples,), for example using ravel().\n",
      "  after removing the cwd from sys.path.\n"
     ]
    },
    {
     "name": "stdout",
     "output_type": "stream",
     "text": [
      "train score:  0.9582403005986178\n",
      "test score:  0.6979890443481787\n"
     ]
    },
    {
     "data": {
      "text/html": [
       "<div>\n",
       "<style scoped>\n",
       "    .dataframe tbody tr th:only-of-type {\n",
       "        vertical-align: middle;\n",
       "    }\n",
       "\n",
       "    .dataframe tbody tr th {\n",
       "        vertical-align: top;\n",
       "    }\n",
       "\n",
       "    .dataframe thead th {\n",
       "        text-align: right;\n",
       "    }\n",
       "</style>\n",
       "<table border=\"1\" class=\"dataframe\">\n",
       "  <thead>\n",
       "    <tr style=\"text-align: right;\">\n",
       "      <th></th>\n",
       "      <th>0</th>\n",
       "      <th>1</th>\n",
       "    </tr>\n",
       "  </thead>\n",
       "  <tbody>\n",
       "    <tr>\n",
       "      <th>0</th>\n",
       "      <td>0.00369431</td>\n",
       "      <td>MaxEStateIndex</td>\n",
       "    </tr>\n",
       "    <tr>\n",
       "      <th>1</th>\n",
       "      <td>0.00812636</td>\n",
       "      <td>MinEStateIndex</td>\n",
       "    </tr>\n",
       "    <tr>\n",
       "      <th>2</th>\n",
       "      <td>0.00317369</td>\n",
       "      <td>MaxAbsEStateIndex</td>\n",
       "    </tr>\n",
       "    <tr>\n",
       "      <th>3</th>\n",
       "      <td>0.00670349</td>\n",
       "      <td>MinAbsEStateIndex</td>\n",
       "    </tr>\n",
       "    <tr>\n",
       "      <th>4</th>\n",
       "      <td>0.00958013</td>\n",
       "      <td>qed</td>\n",
       "    </tr>\n",
       "    <tr>\n",
       "      <th>...</th>\n",
       "      <td>...</td>\n",
       "      <td>...</td>\n",
       "    </tr>\n",
       "    <tr>\n",
       "      <th>195</th>\n",
       "      <td>1.31326e-05</td>\n",
       "      <td>fr_thiazole</td>\n",
       "    </tr>\n",
       "    <tr>\n",
       "      <th>196</th>\n",
       "      <td>1.13133e-06</td>\n",
       "      <td>fr_thiocyan</td>\n",
       "    </tr>\n",
       "    <tr>\n",
       "      <th>197</th>\n",
       "      <td>1.53779e-07</td>\n",
       "      <td>fr_thiophene</td>\n",
       "    </tr>\n",
       "    <tr>\n",
       "      <th>198</th>\n",
       "      <td>0.000150966</td>\n",
       "      <td>fr_unbrch_alkane</td>\n",
       "    </tr>\n",
       "    <tr>\n",
       "      <th>199</th>\n",
       "      <td>3.39857e-07</td>\n",
       "      <td>fr_urea</td>\n",
       "    </tr>\n",
       "  </tbody>\n",
       "</table>\n",
       "<p>200 rows × 2 columns</p>\n",
       "</div>"
      ],
      "text/plain": [
       "               0                  1\n",
       "0     0.00369431     MaxEStateIndex\n",
       "1     0.00812636     MinEStateIndex\n",
       "2     0.00317369  MaxAbsEStateIndex\n",
       "3     0.00670349  MinAbsEStateIndex\n",
       "4     0.00958013                qed\n",
       "..           ...                ...\n",
       "195  1.31326e-05        fr_thiazole\n",
       "196  1.13133e-06        fr_thiocyan\n",
       "197  1.53779e-07       fr_thiophene\n",
       "198  0.000150966   fr_unbrch_alkane\n",
       "199  3.39857e-07            fr_urea\n",
       "\n",
       "[200 rows x 2 columns]"
      ]
     },
     "execution_count": 12,
     "metadata": {},
     "output_type": "execute_result"
    },
    {
     "data": {
      "image/png": "[encoded data removed]",
      "text/plain": [
       "<Figure size 432x288 with 1 Axes>"
      ]
     },
     "metadata": {
      "needs_background": "light"
     },
     "output_type": "display_data"
    }
   ],
   "source": [
    "#random forest\n",
    "from sklearn.ensemble import RandomForestRegressor\n",
    "\n",
    "model=RandomForestRegressor()\n",
    "model=auto_analysis(scaled_X_train,scaled_Y_train,scaled_X_test,scaled_Y_test,model)\n",
    "\n",
    "#パラメータの重要度を解析\n",
    "import_param_df=pd.DataFrame((model.feature_importances_,desc.desc_list)).T\n",
    "import_param_df"
   ]
  },
  {
   "cell_type": "markdown",
   "metadata": {},
   "source": [
    "# 未知化合物の物性予測"
   ]
  },
  {
   "cell_type": "code",
   "execution_count": 39,
   "metadata": {},
   "outputs": [
    {
     "data": {
      "image/png": "[encoded data removed]",
      "text/plain": [
       "<PIL.PngImagePlugin.PngImageFile image mode=RGB size=300x300 at 0x1D746F4F808>"
      ]
     },
     "execution_count": 39,
     "metadata": {},
     "output_type": "execute_result"
    }
   ],
   "source": [
    "from RDKitWrapper import draw_SMILES\n",
    "\n",
    "#こんな化合物の融点を予測してみる\n",
    "smiles1=\"C12=C(C(C(C=C3)=CC=C4C=C5C6C=C(C=CC(C7OCCOOC7)=C8)C8=C5)=C4C6=C2)C3=CC=C1\"\n",
    "smiles2=\"O1OOOOO1\"\n",
    "smiles3=\"[H]O[H]\"\n",
    "\n",
    "draw_SMILES(smiles1)"
   ]
  },
  {
   "cell_type": "code",
   "execution_count": 40,
   "metadata": {},
   "outputs": [
    {
     "data": {
      "image/png": "[encoded data removed]",
      "text/plain": [
       "<PIL.PngImagePlugin.PngImageFile image mode=RGB size=300x300 at 0x1D74A1C2388>"
      ]
     },
     "execution_count": 40,
     "metadata": {},
     "output_type": "execute_result"
    }
   ],
   "source": [
    "draw_SMILES(smiles2)"
   ]
  },
  {
   "cell_type": "code",
   "execution_count": 41,
   "metadata": {},
   "outputs": [
    {
     "data": {
      "image/png": "[encoded data removed]",
      "text/plain": [
       "<PIL.PngImagePlugin.PngImageFile image mode=RGB size=300x300 at 0x1D745417848>"
      ]
     },
     "execution_count": 41,
     "metadata": {},
     "output_type": "execute_result"
    }
   ],
   "source": [
    "draw_SMILES(smiles3)"
   ]
  },
  {
   "cell_type": "code",
   "execution_count": 42,
   "metadata": {},
   "outputs": [],
   "source": [
    "#記述子の計算\n",
    "smiles_list=[smiles1,smiles2,smiles3]\n",
    "screen_desc_list=[desc.calc(smiles,dict_mode=False) for smiles in smiles_list]"
   ]
  },
  {
   "cell_type": "code",
   "execution_count": 43,
   "metadata": {},
   "outputs": [],
   "source": [
    "#正規化\n",
    "screen_X=X_scaler.transform(screen_desc_list)\n",
    "\n",
    "#予測\n",
    "screen_Y=model.predict(screen_X)"
   ]
  },
  {
   "cell_type": "code",
   "execution_count": 44,
   "metadata": {},
   "outputs": [],
   "source": [
    "#融点の計算\n",
    "\n",
    "#正規化を戻す\n",
    "original_screen_Y=Y_scaler.inverse_transform(screen_Y)\n",
    "\n",
    "#温度に変換\n",
    "temperature_screen_Y=10**original_screen_Y-273.15"
   ]
  },
  {
   "cell_type": "code",
   "execution_count": 48,
   "metadata": {},
   "outputs": [
    {
     "name": "stdout",
     "output_type": "stream",
     "text": [
      "C12=C(C(C(C=C3)=CC=C4C=C5C6C=C(C=CC(C7OCCOOC7)=C8)C8=C5)=C4C6=C2)C3=CC=C1 169.6832708403722\n",
      "O1OOOOO1 4.928167929983431\n",
      "[H]O[H] -50.55519642406762\n"
     ]
    }
   ],
   "source": [
    "#予測結果\n",
    "\n",
    "for sm,temerature in zip(smiles_list,temperature_screen_Y):\n",
    "    print(sm,temerature)\n"
   ]
  },
  {
   "cell_type": "code",
   "execution_count": null,
   "metadata": {},
   "outputs": [],
   "source": []
  }
 ],
 "metadata": {
  "colab": {
   "name": "rdkit.ipynb",
   "provenance": []
  },
  "kernelspec": {
   "display_name": "Python 3",
   "language": "python",
   "name": "python3"
  },
  "language_info": {
   "codemirror_mode": {
    "name": "ipython",
    "version": 3
   },
   "file_extension": ".py",
   "mimetype": "text/x-python",
   "name": "python",
   "nbconvert_exporter": "python",
   "pygments_lexer": "ipython3",
   "version": "3.7.6"
  },
  "toc": {
   "base_numbering": 1,
   "nav_menu": {},
   "number_sections": true,
   "sideBar": true,
   "skip_h1_title": false,
   "title_cell": "Table of Contents",
   "title_sidebar": "Contents",
   "toc_cell": false,
   "toc_position": {},
   "toc_section_display": true,
   "toc_window_display": false
  }
 },
 "nbformat": 4,
 "nbformat_minor": 1
}
